{
 "cells": [
  {
   "cell_type": "code",
   "execution_count": 31,
   "id": "3521ae0a-a3fc-4123-80d8-34f64df917d0",
   "metadata": {
    "scrolled": true
   },
   "outputs": [
    {
     "name": "stdout",
     "output_type": "stream",
     "text": [
      "Requirement already satisfied: google-api-python-client in c:\\users\\avine\\appdata\\local\\programs\\python\\python313\\lib\\site-packages (2.154.0)\n",
      "Requirement already satisfied: google-auth-httplib2 in c:\\users\\avine\\appdata\\local\\programs\\python\\python313\\lib\\site-packages (0.2.0)\n",
      "Requirement already satisfied: google-auth-oauthlib in c:\\users\\avine\\appdata\\local\\programs\\python\\python313\\lib\\site-packages (1.2.1)\n",
      "Requirement already satisfied: gspread in c:\\users\\avine\\appdata\\local\\programs\\python\\python313\\lib\\site-packages (6.1.4)\n",
      "Requirement already satisfied: pandas in c:\\users\\avine\\appdata\\local\\programs\\python\\python313\\lib\\site-packages (2.2.3)\n",
      "Requirement already satisfied: httplib2<1.dev0,>=0.19.0 in c:\\users\\avine\\appdata\\local\\programs\\python\\python313\\lib\\site-packages (from google-api-python-client) (0.22.0)\n",
      "Requirement already satisfied: google-auth!=2.24.0,!=2.25.0,<3.0.0.dev0,>=1.32.0 in c:\\users\\avine\\appdata\\local\\programs\\python\\python313\\lib\\site-packages (from google-api-python-client) (2.36.0)\n",
      "Requirement already satisfied: google-api-core!=2.0.*,!=2.1.*,!=2.2.*,!=2.3.0,<3.0.0.dev0,>=1.31.5 in c:\\users\\avine\\appdata\\local\\programs\\python\\python313\\lib\\site-packages (from google-api-python-client) (2.23.0)\n",
      "Requirement already satisfied: uritemplate<5,>=3.0.1 in c:\\users\\avine\\appdata\\local\\programs\\python\\python313\\lib\\site-packages (from google-api-python-client) (4.1.1)\n",
      "Requirement already satisfied: requests-oauthlib>=0.7.0 in c:\\users\\avine\\appdata\\local\\programs\\python\\python313\\lib\\site-packages (from google-auth-oauthlib) (2.0.0)\n",
      "Requirement already satisfied: numpy>=1.26.0 in c:\\users\\avine\\appdata\\local\\programs\\python\\python313\\lib\\site-packages (from pandas) (2.1.3)\n",
      "Requirement already satisfied: python-dateutil>=2.8.2 in c:\\users\\avine\\appdata\\local\\programs\\python\\python313\\lib\\site-packages (from pandas) (2.9.0.post0)\n",
      "Requirement already satisfied: pytz>=2020.1 in c:\\users\\avine\\appdata\\local\\programs\\python\\python313\\lib\\site-packages (from pandas) (2024.2)\n",
      "Requirement already satisfied: tzdata>=2022.7 in c:\\users\\avine\\appdata\\local\\programs\\python\\python313\\lib\\site-packages (from pandas) (2024.2)\n",
      "Requirement already satisfied: googleapis-common-protos<2.0.dev0,>=1.56.2 in c:\\users\\avine\\appdata\\local\\programs\\python\\python313\\lib\\site-packages (from google-api-core!=2.0.*,!=2.1.*,!=2.2.*,!=2.3.0,<3.0.0.dev0,>=1.31.5->google-api-python-client) (1.66.0)\n",
      "Requirement already satisfied: protobuf!=3.20.0,!=3.20.1,!=4.21.0,!=4.21.1,!=4.21.2,!=4.21.3,!=4.21.4,!=4.21.5,<6.0.0.dev0,>=3.19.5 in c:\\users\\avine\\appdata\\local\\programs\\python\\python313\\lib\\site-packages (from google-api-core!=2.0.*,!=2.1.*,!=2.2.*,!=2.3.0,<3.0.0.dev0,>=1.31.5->google-api-python-client) (5.28.3)\n",
      "Requirement already satisfied: proto-plus<2.0.0dev,>=1.22.3 in c:\\users\\avine\\appdata\\local\\programs\\python\\python313\\lib\\site-packages (from google-api-core!=2.0.*,!=2.1.*,!=2.2.*,!=2.3.0,<3.0.0.dev0,>=1.31.5->google-api-python-client) (1.25.0)\n",
      "Requirement already satisfied: requests<3.0.0.dev0,>=2.18.0 in c:\\users\\avine\\appdata\\local\\programs\\python\\python313\\lib\\site-packages (from google-api-core!=2.0.*,!=2.1.*,!=2.2.*,!=2.3.0,<3.0.0.dev0,>=1.31.5->google-api-python-client) (2.32.3)\n",
      "Requirement already satisfied: cachetools<6.0,>=2.0.0 in c:\\users\\avine\\appdata\\local\\programs\\python\\python313\\lib\\site-packages (from google-auth!=2.24.0,!=2.25.0,<3.0.0.dev0,>=1.32.0->google-api-python-client) (5.5.0)\n",
      "Requirement already satisfied: pyasn1-modules>=0.2.1 in c:\\users\\avine\\appdata\\local\\programs\\python\\python313\\lib\\site-packages (from google-auth!=2.24.0,!=2.25.0,<3.0.0.dev0,>=1.32.0->google-api-python-client) (0.4.1)\n",
      "Requirement already satisfied: rsa<5,>=3.1.4 in c:\\users\\avine\\appdata\\local\\programs\\python\\python313\\lib\\site-packages (from google-auth!=2.24.0,!=2.25.0,<3.0.0.dev0,>=1.32.0->google-api-python-client) (4.9)\n",
      "Requirement already satisfied: pyparsing!=3.0.0,!=3.0.1,!=3.0.2,!=3.0.3,<4,>=2.4.2 in c:\\users\\avine\\appdata\\local\\programs\\python\\python313\\lib\\site-packages (from httplib2<1.dev0,>=0.19.0->google-api-python-client) (3.2.0)\n",
      "Requirement already satisfied: six>=1.5 in c:\\users\\avine\\appdata\\local\\programs\\python\\python313\\lib\\site-packages (from python-dateutil>=2.8.2->pandas) (1.16.0)\n",
      "Requirement already satisfied: oauthlib>=3.0.0 in c:\\users\\avine\\appdata\\local\\programs\\python\\python313\\lib\\site-packages (from requests-oauthlib>=0.7.0->google-auth-oauthlib) (3.2.2)\n",
      "Requirement already satisfied: pyasn1<0.7.0,>=0.4.6 in c:\\users\\avine\\appdata\\local\\programs\\python\\python313\\lib\\site-packages (from pyasn1-modules>=0.2.1->google-auth!=2.24.0,!=2.25.0,<3.0.0.dev0,>=1.32.0->google-api-python-client) (0.6.1)\n",
      "Requirement already satisfied: charset-normalizer<4,>=2 in c:\\users\\avine\\appdata\\local\\programs\\python\\python313\\lib\\site-packages (from requests<3.0.0.dev0,>=2.18.0->google-api-core!=2.0.*,!=2.1.*,!=2.2.*,!=2.3.0,<3.0.0.dev0,>=1.31.5->google-api-python-client) (3.4.0)\n",
      "Requirement already satisfied: idna<4,>=2.5 in c:\\users\\avine\\appdata\\local\\programs\\python\\python313\\lib\\site-packages (from requests<3.0.0.dev0,>=2.18.0->google-api-core!=2.0.*,!=2.1.*,!=2.2.*,!=2.3.0,<3.0.0.dev0,>=1.31.5->google-api-python-client) (3.10)\n",
      "Requirement already satisfied: urllib3<3,>=1.21.1 in c:\\users\\avine\\appdata\\local\\programs\\python\\python313\\lib\\site-packages (from requests<3.0.0.dev0,>=2.18.0->google-api-core!=2.0.*,!=2.1.*,!=2.2.*,!=2.3.0,<3.0.0.dev0,>=1.31.5->google-api-python-client) (2.2.3)\n",
      "Requirement already satisfied: certifi>=2017.4.17 in c:\\users\\avine\\appdata\\local\\programs\\python\\python313\\lib\\site-packages (from requests<3.0.0.dev0,>=2.18.0->google-api-core!=2.0.*,!=2.1.*,!=2.2.*,!=2.3.0,<3.0.0.dev0,>=1.31.5->google-api-python-client) (2024.8.30)\n"
     ]
    }
   ],
   "source": [
    "!pip install google-api-python-client google-auth-httplib2 google-auth-oauthlib gspread pandas\n"
   ]
  },
  {
   "cell_type": "code",
   "execution_count": 32,
   "id": "d36646a6-96dd-4b5c-b55a-63cdaf50fc60",
   "metadata": {},
   "outputs": [],
   "source": [
    "from googleapiclient.discovery import build\n",
    "from google.oauth2.service_account import Credentials\n",
    "import gspread\n",
    "import pandas as pd\n",
    "import datetime\n"
   ]
  },
  {
   "cell_type": "code",
   "execution_count": 33,
   "id": "19b491dc-af1a-4840-bac3-3dd244279ec1",
   "metadata": {},
   "outputs": [],
   "source": [
    "# Replace with the path to your service account JSON file\n",
    "SERVICE_ACCOUNT_FILE = r\"C:\\Users\\avine\\Downloads\\Project\\aristok-automation-441704-40507951b10b.json\"\n",
    "\n",
    "def authenticate_service():\n",
    "    scopes = [\n",
    "        \"https://www.googleapis.com/auth/webmasters.readonly\",  # Search Console API scope\n",
    "        \"https://www.googleapis.com/auth/spreadsheets\",         # Google Sheets API scope\n",
    "    ]\n",
    "    credentials = Credentials.from_service_account_file(SERVICE_ACCOUNT_FILE, scopes=scopes)\n",
    "    gsc_service = build('searchconsole', 'v1', credentials=credentials)\n",
    "    gsheet_client = gspread.authorize(credentials)\n",
    "    return gsc_service, gsheet_client\n",
    "\n",
    "# Authenticate the services\n",
    "gsc_service, gsheet_client = authenticate_service()\n",
    "\n"
   ]
  },
  {
   "cell_type": "code",
   "execution_count": 34,
   "id": "de533f7f-581b-4bb0-8bfd-64538e30a5c7",
   "metadata": {},
   "outputs": [],
   "source": [
    "def fetch_gsc_data(service, site_url, start_date, end_date):\n",
    "    request = {\n",
    "        'startDate': start_date,\n",
    "        'endDate': end_date,\n",
    "        'dimensions': ['date'],\n",
    "        'rowLimit': 10000,\n",
    "    }\n",
    "    response = service.searchanalytics().query(siteUrl=site_url, body=request).execute()\n",
    "    return response.get('rows', [])\n",
    "\n",
    "# Define site URL and date range\n",
    "site_url = \"https://www.medikabazaar.com/\"  # Replace with your site URL\n",
    "start_date = (datetime.date.today() - datetime.timedelta(days=365)).isoformat()\n",
    "end_date = datetime.date.today().isoformat()\n",
    "\n",
    "# Fetch data\n",
    "rows = fetch_gsc_data(gsc_service, site_url, start_date, end_date)\n"
   ]
  },
  {
   "cell_type": "code",
   "execution_count": 35,
   "id": "e95bec0e-bc62-4536-ad49-4f724d2a4746",
   "metadata": {},
   "outputs": [
    {
     "data": {
      "text/html": [
       "<div>\n",
       "<style scoped>\n",
       "    .dataframe tbody tr th:only-of-type {\n",
       "        vertical-align: middle;\n",
       "    }\n",
       "\n",
       "    .dataframe tbody tr th {\n",
       "        vertical-align: top;\n",
       "    }\n",
       "\n",
       "    .dataframe thead th {\n",
       "        text-align: right;\n",
       "    }\n",
       "</style>\n",
       "<table border=\"1\" class=\"dataframe\">\n",
       "  <thead>\n",
       "    <tr style=\"text-align: right;\">\n",
       "      <th></th>\n",
       "      <th>Month</th>\n",
       "      <th>Clicks</th>\n",
       "      <th>Impressions</th>\n",
       "      <th>CTR</th>\n",
       "      <th>Position</th>\n",
       "    </tr>\n",
       "  </thead>\n",
       "  <tbody>\n",
       "    <tr>\n",
       "      <th>0</th>\n",
       "      <td>Aug'24</td>\n",
       "      <td>30749</td>\n",
       "      <td>2,968,862</td>\n",
       "      <td>1.03%</td>\n",
       "      <td>13.3</td>\n",
       "    </tr>\n",
       "    <tr>\n",
       "      <th>1</th>\n",
       "      <td>Jul'24</td>\n",
       "      <td>26033</td>\n",
       "      <td>2,340,879</td>\n",
       "      <td>1.12%</td>\n",
       "      <td>13.5</td>\n",
       "    </tr>\n",
       "    <tr>\n",
       "      <th>2</th>\n",
       "      <td>Oct'24</td>\n",
       "      <td>35267</td>\n",
       "      <td>4,614,220</td>\n",
       "      <td>0.76%</td>\n",
       "      <td>13.5</td>\n",
       "    </tr>\n",
       "    <tr>\n",
       "      <th>3</th>\n",
       "      <td>Sep'24</td>\n",
       "      <td>34684</td>\n",
       "      <td>3,731,914</td>\n",
       "      <td>0.93%</td>\n",
       "      <td>13.2</td>\n",
       "    </tr>\n",
       "  </tbody>\n",
       "</table>\n",
       "</div>"
      ],
      "text/plain": [
       "    Month  Clicks Impressions    CTR Position\n",
       "0  Aug'24   30749   2,968,862  1.03%     13.3\n",
       "1  Jul'24   26033   2,340,879  1.12%     13.5\n",
       "2  Oct'24   35267   4,614,220  0.76%     13.5\n",
       "3  Sep'24   34684   3,731,914  0.93%     13.2"
      ]
     },
     "execution_count": 35,
     "metadata": {},
     "output_type": "execute_result"
    }
   ],
   "source": [
    "# List of months you want to include in the report\n",
    "selected_months = [\"Jul'24\", \"Aug'24\", \"Sep'24\", \"Oct'24\"]  # Change this to your desired months\n",
    "\n",
    "def aggregate_monthly_data(rows, selected_months):\n",
    "    data = []\n",
    "    for row in rows:\n",
    "        date = row['keys'][0]\n",
    "        clicks = row.get('clicks', 0)\n",
    "        impressions = row.get('impressions', 0)\n",
    "        ctr = row.get('ctr', 0) * 100  # Convert to percentage\n",
    "        position = row.get('position', 0)\n",
    "        data.append([date, clicks, impressions, ctr, position])\n",
    "    \n",
    "    # Convert to DataFrame\n",
    "    df = pd.DataFrame(data, columns=[\"Date\", \"Clicks\", \"Impressions\", \"CTR\", \"Position\"])\n",
    "    df['Date'] = pd.to_datetime(df['Date'])\n",
    "    df['Month'] = df['Date'].dt.strftime(\"%b'%y\")\n",
    "    \n",
    "    # Aggregate by month\n",
    "    monthly_data = df.groupby('Month').agg(\n",
    "        Clicks=('Clicks', 'sum'),\n",
    "        Impressions=('Impressions', 'sum'),\n",
    "        CTR=('CTR', 'mean'),\n",
    "        Position=('Position', 'mean')\n",
    "    ).reset_index()\n",
    "\n",
    "    # Format the data\n",
    "    monthly_data['Clicks'] = monthly_data['Clicks'].astype(int)\n",
    "    monthly_data['Impressions'] = monthly_data['Impressions'].apply(lambda x: f\"{x:,.0f}\")\n",
    "    monthly_data['CTR'] = monthly_data['CTR'].apply(lambda x: f\"{x:.2f}%\")\n",
    "    monthly_data['Position'] = monthly_data['Position'].apply(lambda x: f\"{x:.1f}\")\n",
    "    \n",
    "    # Filter by selected months\n",
    "    filtered_data = monthly_data[monthly_data['Month'].isin(selected_months)].reset_index(drop=True)\n",
    "    return filtered_data\n",
    "\n",
    "# Aggregate and filter the data\n",
    "monthly_data = aggregate_monthly_data(rows, selected_months)\n",
    "monthly_data\n",
    "\n"
   ]
  },
  {
   "cell_type": "code",
   "execution_count": 36,
   "id": "dfc98c6c-7551-44d3-bc4d-e2990f53625f",
   "metadata": {},
   "outputs": [
    {
     "name": "stdout",
     "output_type": "stream",
     "text": [
      "We have observed a 1.7% drop in Clicks when compared to Oct'24\n",
      "19.1% drop in Organic Impressions when compared to Oct'24\n"
     ]
    }
   ],
   "source": [
    "def generate_insights(monthly_data):\n",
    "    insights = []\n",
    "    if len(monthly_data) >= 2:\n",
    "        latest = monthly_data.iloc[-1]\n",
    "        previous = monthly_data.iloc[-2]\n",
    "        \n",
    "        click_change = ((latest['Clicks'] - previous['Clicks']) / previous['Clicks']) * 100\n",
    "        impression_change = ((int(latest['Impressions'].replace(',', '')) -\n",
    "                              int(previous['Impressions'].replace(',', ''))) /\n",
    "                             int(previous['Impressions'].replace(',', ''))) * 100\n",
    "        \n",
    "        # Determine if the changes are improvements or drops\n",
    "        click_change_type = \"improvement\" if click_change > 0 else \"drop\"\n",
    "        impression_change_type = \"improvement\" if impression_change > 0 else \"drop\"\n",
    "        \n",
    "        # Format the insights\n",
    "        insights.append(f\"We have observed a {abs(click_change):.1f}% {click_change_type} in Clicks when compared to {previous['Month']}\")\n",
    "        insights.append(f\"{abs(impression_change):.1f}% {impression_change_type} in Organic Impressions when compared to {previous['Month']}\")\n",
    "    return insights\n",
    "\n",
    "# Generate insights\n",
    "insights = generate_insights(monthly_data)\n",
    "print(\"\\n\".join(insights))\n",
    "\n",
    "\n"
   ]
  },
  {
   "cell_type": "code",
   "execution_count": 37,
   "id": "11d6ea9e-66c0-40c8-9c9b-75dcc01fa8de",
   "metadata": {},
   "outputs": [
    {
     "name": "stderr",
     "output_type": "stream",
     "text": [
      "C:\\Users\\avine\\AppData\\Local\\Temp\\ipykernel_16284\\2513629355.py:10: DeprecationWarning: The order of arguments in worksheet.update() has changed. Please pass values first and range_name secondor used named arguments (range_name=, values=)\n",
      "  sheet.update('A1', [data.columns.tolist()] + data.values.tolist())\n",
      "C:\\Users\\avine\\AppData\\Local\\Temp\\ipykernel_16284\\2513629355.py:13: DeprecationWarning: The order of arguments in worksheet.update() has changed. Please pass values first and range_name secondor used named arguments (range_name=, values=)\n",
      "  sheet.update(f'A{len(data) + 3}', [[insight] for insight in insights])\n"
     ]
    },
    {
     "name": "stdout",
     "output_type": "stream",
     "text": [
      "Data and insights uploaded to Google Sheets.\n"
     ]
    }
   ],
   "source": [
    "# Replace with the Google Sheet ID\n",
    "SPREADSHEET_ID = \"1G_xGUUl0yGbtkdza9EKD94dcc3LTKO2ADEOY6tdKwME\"  # Replace with your sheet's actual ID\n",
    "\n",
    "def upload_to_sheets(client, data, insights):\n",
    "    # Open the spreadsheet by ID\n",
    "    sheet = client.open_by_key(SPREADSHEET_ID).sheet1  # Assumes data is in the first sheet\n",
    "    sheet.clear()  # Clear existing data\n",
    "    \n",
    "    # Write performance data\n",
    "    sheet.update('A1', [data.columns.tolist()] + data.values.tolist())\n",
    "    \n",
    "    # Write insights below the table\n",
    "    sheet.update(f'A{len(data) + 3}', [[insight] for insight in insights])\n",
    "\n",
    "# Upload data and insights to Google Sheets\n",
    "upload_to_sheets(gsheet_client, monthly_data, insights)\n",
    "print(\"Data and insights uploaded to Google Sheets.\")\n"
   ]
  },
  {
   "cell_type": "code",
   "execution_count": null,
   "id": "1afb5ea8-e126-4c4b-8451-04b9b12b16fd",
   "metadata": {},
   "outputs": [],
   "source": []
  }
 ],
 "metadata": {
  "kernelspec": {
   "display_name": "Python 3 (ipykernel)",
   "language": "python",
   "name": "python3"
  },
  "language_info": {
   "codemirror_mode": {
    "name": "ipython",
    "version": 3
   },
   "file_extension": ".py",
   "mimetype": "text/x-python",
   "name": "python",
   "nbconvert_exporter": "python",
   "pygments_lexer": "ipython3",
   "version": "3.13.0"
  }
 },
 "nbformat": 4,
 "nbformat_minor": 5
}
