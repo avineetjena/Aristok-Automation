{
 "cells": [
  {
   "cell_type": "code",
   "execution_count": 1,
   "id": "2878ecf9-e065-4aac-b3a9-b6b830058406",
   "metadata": {
    "scrolled": true
   },
   "outputs": [
    {
     "name": "stdout",
     "output_type": "stream",
     "text": [
      "Requirement already satisfied: google-api-python-client in c:\\users\\avine\\appdata\\local\\programs\\python\\python313\\lib\\site-packages (2.153.0)\n",
      "Requirement already satisfied: google-auth-httplib2 in c:\\users\\avine\\appdata\\local\\programs\\python\\python313\\lib\\site-packages (0.2.0)\n",
      "Requirement already satisfied: google-auth-oauthlib in c:\\users\\avine\\appdata\\local\\programs\\python\\python313\\lib\\site-packages (1.2.1)\n",
      "Requirement already satisfied: gspread in c:\\users\\avine\\appdata\\local\\programs\\python\\python313\\lib\\site-packages (6.1.4)\n",
      "Requirement already satisfied: pandas in c:\\users\\avine\\appdata\\local\\programs\\python\\python313\\lib\\site-packages (2.2.3)\n",
      "Requirement already satisfied: httplib2<1.dev0,>=0.19.0 in c:\\users\\avine\\appdata\\local\\programs\\python\\python313\\lib\\site-packages (from google-api-python-client) (0.22.0)\n",
      "Requirement already satisfied: google-auth!=2.24.0,!=2.25.0,<3.0.0.dev0,>=1.32.0 in c:\\users\\avine\\appdata\\local\\programs\\python\\python313\\lib\\site-packages (from google-api-python-client) (2.36.0)\n",
      "Requirement already satisfied: google-api-core!=2.0.*,!=2.1.*,!=2.2.*,!=2.3.0,<3.0.0.dev0,>=1.31.5 in c:\\users\\avine\\appdata\\local\\programs\\python\\python313\\lib\\site-packages (from google-api-python-client) (2.23.0)\n",
      "Requirement already satisfied: uritemplate<5,>=3.0.1 in c:\\users\\avine\\appdata\\local\\programs\\python\\python313\\lib\\site-packages (from google-api-python-client) (4.1.1)\n",
      "Requirement already satisfied: requests-oauthlib>=0.7.0 in c:\\users\\avine\\appdata\\local\\programs\\python\\python313\\lib\\site-packages (from google-auth-oauthlib) (2.0.0)\n",
      "Requirement already satisfied: numpy>=1.26.0 in c:\\users\\avine\\appdata\\local\\programs\\python\\python313\\lib\\site-packages (from pandas) (2.1.3)\n",
      "Requirement already satisfied: python-dateutil>=2.8.2 in c:\\users\\avine\\appdata\\local\\programs\\python\\python313\\lib\\site-packages (from pandas) (2.9.0.post0)\n",
      "Requirement already satisfied: pytz>=2020.1 in c:\\users\\avine\\appdata\\local\\programs\\python\\python313\\lib\\site-packages (from pandas) (2024.2)\n",
      "Requirement already satisfied: tzdata>=2022.7 in c:\\users\\avine\\appdata\\local\\programs\\python\\python313\\lib\\site-packages (from pandas) (2024.2)\n",
      "Requirement already satisfied: googleapis-common-protos<2.0.dev0,>=1.56.2 in c:\\users\\avine\\appdata\\local\\programs\\python\\python313\\lib\\site-packages (from google-api-core!=2.0.*,!=2.1.*,!=2.2.*,!=2.3.0,<3.0.0.dev0,>=1.31.5->google-api-python-client) (1.66.0)\n",
      "Requirement already satisfied: protobuf!=3.20.0,!=3.20.1,!=4.21.0,!=4.21.1,!=4.21.2,!=4.21.3,!=4.21.4,!=4.21.5,<6.0.0.dev0,>=3.19.5 in c:\\users\\avine\\appdata\\local\\programs\\python\\python313\\lib\\site-packages (from google-api-core!=2.0.*,!=2.1.*,!=2.2.*,!=2.3.0,<3.0.0.dev0,>=1.31.5->google-api-python-client) (5.28.3)\n",
      "Requirement already satisfied: proto-plus<2.0.0dev,>=1.22.3 in c:\\users\\avine\\appdata\\local\\programs\\python\\python313\\lib\\site-packages (from google-api-core!=2.0.*,!=2.1.*,!=2.2.*,!=2.3.0,<3.0.0.dev0,>=1.31.5->google-api-python-client) (1.25.0)\n",
      "Requirement already satisfied: requests<3.0.0.dev0,>=2.18.0 in c:\\users\\avine\\appdata\\local\\programs\\python\\python313\\lib\\site-packages (from google-api-core!=2.0.*,!=2.1.*,!=2.2.*,!=2.3.0,<3.0.0.dev0,>=1.31.5->google-api-python-client) (2.32.3)\n",
      "Requirement already satisfied: cachetools<6.0,>=2.0.0 in c:\\users\\avine\\appdata\\local\\programs\\python\\python313\\lib\\site-packages (from google-auth!=2.24.0,!=2.25.0,<3.0.0.dev0,>=1.32.0->google-api-python-client) (5.5.0)\n",
      "Requirement already satisfied: pyasn1-modules>=0.2.1 in c:\\users\\avine\\appdata\\local\\programs\\python\\python313\\lib\\site-packages (from google-auth!=2.24.0,!=2.25.0,<3.0.0.dev0,>=1.32.0->google-api-python-client) (0.4.1)\n",
      "Requirement already satisfied: rsa<5,>=3.1.4 in c:\\users\\avine\\appdata\\local\\programs\\python\\python313\\lib\\site-packages (from google-auth!=2.24.0,!=2.25.0,<3.0.0.dev0,>=1.32.0->google-api-python-client) (4.9)\n",
      "Requirement already satisfied: pyparsing!=3.0.0,!=3.0.1,!=3.0.2,!=3.0.3,<4,>=2.4.2 in c:\\users\\avine\\appdata\\local\\programs\\python\\python313\\lib\\site-packages (from httplib2<1.dev0,>=0.19.0->google-api-python-client) (3.2.0)\n",
      "Requirement already satisfied: six>=1.5 in c:\\users\\avine\\appdata\\local\\programs\\python\\python313\\lib\\site-packages (from python-dateutil>=2.8.2->pandas) (1.16.0)\n",
      "Requirement already satisfied: oauthlib>=3.0.0 in c:\\users\\avine\\appdata\\local\\programs\\python\\python313\\lib\\site-packages (from requests-oauthlib>=0.7.0->google-auth-oauthlib) (3.2.2)\n",
      "Requirement already satisfied: pyasn1<0.7.0,>=0.4.6 in c:\\users\\avine\\appdata\\local\\programs\\python\\python313\\lib\\site-packages (from pyasn1-modules>=0.2.1->google-auth!=2.24.0,!=2.25.0,<3.0.0.dev0,>=1.32.0->google-api-python-client) (0.6.1)\n",
      "Requirement already satisfied: charset-normalizer<4,>=2 in c:\\users\\avine\\appdata\\local\\programs\\python\\python313\\lib\\site-packages (from requests<3.0.0.dev0,>=2.18.0->google-api-core!=2.0.*,!=2.1.*,!=2.2.*,!=2.3.0,<3.0.0.dev0,>=1.31.5->google-api-python-client) (3.4.0)\n",
      "Requirement already satisfied: idna<4,>=2.5 in c:\\users\\avine\\appdata\\local\\programs\\python\\python313\\lib\\site-packages (from requests<3.0.0.dev0,>=2.18.0->google-api-core!=2.0.*,!=2.1.*,!=2.2.*,!=2.3.0,<3.0.0.dev0,>=1.31.5->google-api-python-client) (3.10)\n",
      "Requirement already satisfied: urllib3<3,>=1.21.1 in c:\\users\\avine\\appdata\\local\\programs\\python\\python313\\lib\\site-packages (from requests<3.0.0.dev0,>=2.18.0->google-api-core!=2.0.*,!=2.1.*,!=2.2.*,!=2.3.0,<3.0.0.dev0,>=1.31.5->google-api-python-client) (2.2.3)\n",
      "Requirement already satisfied: certifi>=2017.4.17 in c:\\users\\avine\\appdata\\local\\programs\\python\\python313\\lib\\site-packages (from requests<3.0.0.dev0,>=2.18.0->google-api-core!=2.0.*,!=2.1.*,!=2.2.*,!=2.3.0,<3.0.0.dev0,>=1.31.5->google-api-python-client) (2024.8.30)\n"
     ]
    }
   ],
   "source": [
    "!pip install google-api-python-client google-auth-httplib2 google-auth-oauthlib gspread pandas\n",
    "\n"
   ]
  },
  {
   "cell_type": "code",
   "execution_count": 2,
   "id": "303076c8-b30a-43f3-bb17-63f5eb3431e7",
   "metadata": {},
   "outputs": [],
   "source": [
    "from googleapiclient.discovery import build\n",
    "from google.oauth2.service_account import Credentials\n",
    "import pandas as pd\n",
    "from datetime import datetime, timedelta\n",
    "import gspread\n",
    "import re\n"
   ]
  },
  {
   "cell_type": "code",
   "execution_count": 3,
   "id": "9a910af8-efbc-4c0c-90a8-8c449a734bf5",
   "metadata": {},
   "outputs": [],
   "source": [
    "# Configuration\n",
    "SCOPES = ['https://www.googleapis.com/auth/webmasters.readonly', 'https://www.googleapis.com/auth/spreadsheets']\n",
    "SERVICE_ACCOUNT_FILE = r'C:\\Users\\avine\\Downloads\\Project\\aristok-automation-441704-40507951b10b.json'  # Path to service account JSON file\n",
    "SEARCH_CONSOLE_SITE_URL = 'https://www.medikabazaar.com/'  # Replace with your site URL\n",
    "SPREADSHEET_ID = '1G_xGUUl0yGbtkdza9EKD94dcc3LTKO2ADEOY6tdKwME'  # Replace with your Google Sheet ID\n",
    "\n",
    "# Authenticate Google APIs\n",
    "credentials = Credentials.from_service_account_file(SERVICE_ACCOUNT_FILE, scopes=SCOPES)\n",
    "search_console_service = build('webmasters', 'v3', credentials=credentials)\n",
    "sheets_client = gspread.authorize(credentials)\n"
   ]
  },
  {
   "cell_type": "code",
   "execution_count": 4,
   "id": "c7f34739-54ce-4427-acfe-009dca808c9a",
   "metadata": {},
   "outputs": [],
   "source": [
    "def fetch_monthly_branded_data(year, month, regex_pattern):\n",
    "    \"\"\"\n",
    "    Fetches monthly branded data based on a regex pattern.\n",
    "    \"\"\"\n",
    "    # Calculate start and end dates for the month\n",
    "    start_date = f\"{year}-{month:02d}-01\"\n",
    "    end_date = (datetime(year, month + 1, 1) - timedelta(days=1)).strftime('%Y-%m-%d') if month < 12 else f\"{year}-12-31\"\n",
    "\n",
    "    # Fetch data from Google Search Console\n",
    "    request = {\n",
    "        'startDate': start_date,\n",
    "        'endDate': end_date,\n",
    "        'dimensions': ['query', 'date'],  # Include 'query' for regex matching\n",
    "    }\n",
    "    response = search_console_service.searchanalytics().query(siteUrl=SEARCH_CONSOLE_SITE_URL, body=request).execute()\n",
    "    rows = response.get('rows', [])\n",
    "\n",
    "    # Filter rows based on the regex pattern for branded queries\n",
    "    branded_rows = [\n",
    "        row for row in rows if re.search(regex_pattern, row['keys'][0], re.IGNORECASE)\n",
    "    ]\n",
    "\n",
    "    # Summarize data for branded queries\n",
    "    total_clicks = sum(row.get('clicks', 0) for row in branded_rows)\n",
    "    total_impressions = sum(row.get('impressions', 0) for row in branded_rows)\n",
    "    avg_ctr = (sum(row.get('ctr', 0) * row.get('impressions', 0) for row in branded_rows) / total_impressions) if total_impressions else 0\n",
    "    avg_position = (sum(row.get('position', 0) * row.get('impressions', 0) for row in branded_rows) / total_impressions) if total_impressions else 0\n",
    "\n",
    "    # Return monthly data\n",
    "    return {\n",
    "        'Clicks': total_clicks,\n",
    "        'Impressions': total_impressions,\n",
    "        'CTR': f\"{avg_ctr * 100:.2f}%\",\n",
    "        'Average Position': f\"{avg_position:.1f}\" if total_impressions else \"-\"\n",
    "    }\n"
   ]
  },
  {
   "cell_type": "code",
   "execution_count": 5,
   "id": "3c6e9657-7164-40a9-84c3-a4dd081ca86e",
   "metadata": {},
   "outputs": [],
   "source": [
    "def export_to_google_sheets(sheet_id, data):\n",
    "    \"\"\"\n",
    "    Exports a DataFrame to Google Sheets.\n",
    "    \"\"\"\n",
    "    try:\n",
    "        sheet = sheets_client.open_by_key(sheet_id)\n",
    "        worksheet = sheet.sheet1  # Use the first sheet\n",
    "\n",
    "        # Clear existing data and update with new data\n",
    "        worksheet.clear()\n",
    "        worksheet.update([data.columns.values.tolist()] + data.values.tolist())\n",
    "        print(\"Data successfully exported to Google Sheets.\")\n",
    "    except Exception as e:\n",
    "        print(f\"Error exporting to Google Sheets: {e}\")\n"
   ]
  },
  {
   "cell_type": "code",
   "execution_count": 6,
   "id": "5f928871-a1e8-44bd-96a9-f6424a7d401d",
   "metadata": {},
   "outputs": [
    {
     "name": "stdout",
     "output_type": "stream",
     "text": [
      "Fetching data for Jul 2024 (branded queries)...\n",
      "Fetching data for Aug 2024 (branded queries)...\n",
      "Fetching data for Sep 2024 (branded queries)...\n",
      "Fetching data for Oct 2024 (branded queries)...\n",
      "  Performance  Clicks Impressions    CTR Average Position\n",
      "0      Jul'24       0           0  0.00%                -\n",
      "1      Aug'24       0           0  0.00%                -\n",
      "2      Sep'24       0           0  0.00%                -\n",
      "3      Oct'24       0           0  0.00%                -\n",
      "Data successfully exported to Google Sheets.\n"
     ]
    }
   ],
   "source": [
    "# Define the year, months, and branded regex pattern\n",
    "year = 2024\n",
    "months = ['Jul', 'Aug', 'Sep', 'Oct']  # Customize the months as needed\n",
    "month_numbers = [7, 8, 9, 10]  # Corresponding numeric months\n",
    "branded_regex = r'(virtualness|virtual ness|virtualnes|virtuaness|verix)'  # Replace with your custom regex\n",
    "\n",
    "# Fetch data for each month and store it in a DataFrame\n",
    "data = []\n",
    "for month, month_num in zip(months, month_numbers):\n",
    "    print(f\"Fetching data for {month} {year} (branded queries)...\")\n",
    "    monthly_data = fetch_monthly_branded_data(year, month_num, branded_regex)\n",
    "    data.append({'Performance': month + f\"'{str(year)[-2:]}\", **monthly_data})\n",
    "\n",
    "# Convert to DataFrame\n",
    "df = pd.DataFrame(data)\n",
    "\n",
    "# Format for Google Sheets\n",
    "df['Impressions'] = df['Impressions'].apply(lambda x: f\"{x:,}\")  # Add commas for thousands\n",
    "print(df)\n",
    "\n",
    "# Export to Google Sheets\n",
    "export_to_google_sheets(SPREADSHEET_ID, df)\n"
   ]
  }
 ],
 "metadata": {
  "kernelspec": {
   "display_name": "Python 3 (ipykernel)",
   "language": "python",
   "name": "python3"
  },
  "language_info": {
   "codemirror_mode": {
    "name": "ipython",
    "version": 3
   },
   "file_extension": ".py",
   "mimetype": "text/x-python",
   "name": "python",
   "nbconvert_exporter": "python",
   "pygments_lexer": "ipython3",
   "version": "3.13.0"
  }
 },
 "nbformat": 4,
 "nbformat_minor": 5
}
