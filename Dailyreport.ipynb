{
 "cells": [
  {
   "cell_type": "code",
   "execution_count": 9,
   "id": "87b2acc0-3d96-44d9-ac11-967a915ad302",
   "metadata": {},
   "outputs": [
    {
     "name": "stdout",
     "output_type": "stream",
     "text": [
      "Requirement already satisfied: google-api-python-client in c:\\users\\avine\\appdata\\local\\programs\\python\\python313\\lib\\site-packages (2.153.0)\n",
      "Requirement already satisfied: google-auth-httplib2 in c:\\users\\avine\\appdata\\local\\programs\\python\\python313\\lib\\site-packages (0.2.0)\n",
      "Requirement already satisfied: google-auth-oauthlib in c:\\users\\avine\\appdata\\local\\programs\\python\\python313\\lib\\site-packages (1.2.1)\n",
      "Requirement already satisfied: gspread in c:\\users\\avine\\appdata\\local\\programs\\python\\python313\\lib\\site-packages (6.1.4)\n",
      "Requirement already satisfied: pandas in c:\\users\\avine\\appdata\\local\\programs\\python\\python313\\lib\\site-packages (2.2.3)\n",
      "Requirement already satisfied: httplib2<1.dev0,>=0.19.0 in c:\\users\\avine\\appdata\\local\\programs\\python\\python313\\lib\\site-packages (from google-api-python-client) (0.22.0)\n",
      "Requirement already satisfied: google-auth!=2.24.0,!=2.25.0,<3.0.0.dev0,>=1.32.0 in c:\\users\\avine\\appdata\\local\\programs\\python\\python313\\lib\\site-packages (from google-api-python-client) (2.36.0)\n",
      "Requirement already satisfied: google-api-core!=2.0.*,!=2.1.*,!=2.2.*,!=2.3.0,<3.0.0.dev0,>=1.31.5 in c:\\users\\avine\\appdata\\local\\programs\\python\\python313\\lib\\site-packages (from google-api-python-client) (2.23.0)\n",
      "Requirement already satisfied: uritemplate<5,>=3.0.1 in c:\\users\\avine\\appdata\\local\\programs\\python\\python313\\lib\\site-packages (from google-api-python-client) (4.1.1)\n",
      "Requirement already satisfied: requests-oauthlib>=0.7.0 in c:\\users\\avine\\appdata\\local\\programs\\python\\python313\\lib\\site-packages (from google-auth-oauthlib) (2.0.0)\n",
      "Requirement already satisfied: numpy>=1.26.0 in c:\\users\\avine\\appdata\\local\\programs\\python\\python313\\lib\\site-packages (from pandas) (2.1.3)\n",
      "Requirement already satisfied: python-dateutil>=2.8.2 in c:\\users\\avine\\appdata\\local\\programs\\python\\python313\\lib\\site-packages (from pandas) (2.9.0.post0)\n",
      "Requirement already satisfied: pytz>=2020.1 in c:\\users\\avine\\appdata\\local\\programs\\python\\python313\\lib\\site-packages (from pandas) (2024.2)\n",
      "Requirement already satisfied: tzdata>=2022.7 in c:\\users\\avine\\appdata\\local\\programs\\python\\python313\\lib\\site-packages (from pandas) (2024.2)\n",
      "Requirement already satisfied: googleapis-common-protos<2.0.dev0,>=1.56.2 in c:\\users\\avine\\appdata\\local\\programs\\python\\python313\\lib\\site-packages (from google-api-core!=2.0.*,!=2.1.*,!=2.2.*,!=2.3.0,<3.0.0.dev0,>=1.31.5->google-api-python-client) (1.66.0)\n",
      "Requirement already satisfied: protobuf!=3.20.0,!=3.20.1,!=4.21.0,!=4.21.1,!=4.21.2,!=4.21.3,!=4.21.4,!=4.21.5,<6.0.0.dev0,>=3.19.5 in c:\\users\\avine\\appdata\\local\\programs\\python\\python313\\lib\\site-packages (from google-api-core!=2.0.*,!=2.1.*,!=2.2.*,!=2.3.0,<3.0.0.dev0,>=1.31.5->google-api-python-client) (5.28.3)\n",
      "Requirement already satisfied: proto-plus<2.0.0dev,>=1.22.3 in c:\\users\\avine\\appdata\\local\\programs\\python\\python313\\lib\\site-packages (from google-api-core!=2.0.*,!=2.1.*,!=2.2.*,!=2.3.0,<3.0.0.dev0,>=1.31.5->google-api-python-client) (1.25.0)\n",
      "Requirement already satisfied: requests<3.0.0.dev0,>=2.18.0 in c:\\users\\avine\\appdata\\local\\programs\\python\\python313\\lib\\site-packages (from google-api-core!=2.0.*,!=2.1.*,!=2.2.*,!=2.3.0,<3.0.0.dev0,>=1.31.5->google-api-python-client) (2.32.3)\n",
      "Requirement already satisfied: cachetools<6.0,>=2.0.0 in c:\\users\\avine\\appdata\\local\\programs\\python\\python313\\lib\\site-packages (from google-auth!=2.24.0,!=2.25.0,<3.0.0.dev0,>=1.32.0->google-api-python-client) (5.5.0)\n",
      "Requirement already satisfied: pyasn1-modules>=0.2.1 in c:\\users\\avine\\appdata\\local\\programs\\python\\python313\\lib\\site-packages (from google-auth!=2.24.0,!=2.25.0,<3.0.0.dev0,>=1.32.0->google-api-python-client) (0.4.1)\n",
      "Requirement already satisfied: rsa<5,>=3.1.4 in c:\\users\\avine\\appdata\\local\\programs\\python\\python313\\lib\\site-packages (from google-auth!=2.24.0,!=2.25.0,<3.0.0.dev0,>=1.32.0->google-api-python-client) (4.9)\n",
      "Requirement already satisfied: pyparsing!=3.0.0,!=3.0.1,!=3.0.2,!=3.0.3,<4,>=2.4.2 in c:\\users\\avine\\appdata\\local\\programs\\python\\python313\\lib\\site-packages (from httplib2<1.dev0,>=0.19.0->google-api-python-client) (3.2.0)\n",
      "Requirement already satisfied: six>=1.5 in c:\\users\\avine\\appdata\\local\\programs\\python\\python313\\lib\\site-packages (from python-dateutil>=2.8.2->pandas) (1.16.0)\n",
      "Requirement already satisfied: oauthlib>=3.0.0 in c:\\users\\avine\\appdata\\local\\programs\\python\\python313\\lib\\site-packages (from requests-oauthlib>=0.7.0->google-auth-oauthlib) (3.2.2)\n",
      "Requirement already satisfied: pyasn1<0.7.0,>=0.4.6 in c:\\users\\avine\\appdata\\local\\programs\\python\\python313\\lib\\site-packages (from pyasn1-modules>=0.2.1->google-auth!=2.24.0,!=2.25.0,<3.0.0.dev0,>=1.32.0->google-api-python-client) (0.6.1)\n",
      "Requirement already satisfied: charset-normalizer<4,>=2 in c:\\users\\avine\\appdata\\local\\programs\\python\\python313\\lib\\site-packages (from requests<3.0.0.dev0,>=2.18.0->google-api-core!=2.0.*,!=2.1.*,!=2.2.*,!=2.3.0,<3.0.0.dev0,>=1.31.5->google-api-python-client) (3.4.0)\n",
      "Requirement already satisfied: idna<4,>=2.5 in c:\\users\\avine\\appdata\\local\\programs\\python\\python313\\lib\\site-packages (from requests<3.0.0.dev0,>=2.18.0->google-api-core!=2.0.*,!=2.1.*,!=2.2.*,!=2.3.0,<3.0.0.dev0,>=1.31.5->google-api-python-client) (3.10)\n",
      "Requirement already satisfied: urllib3<3,>=1.21.1 in c:\\users\\avine\\appdata\\local\\programs\\python\\python313\\lib\\site-packages (from requests<3.0.0.dev0,>=2.18.0->google-api-core!=2.0.*,!=2.1.*,!=2.2.*,!=2.3.0,<3.0.0.dev0,>=1.31.5->google-api-python-client) (2.2.3)\n",
      "Requirement already satisfied: certifi>=2017.4.17 in c:\\users\\avine\\appdata\\local\\programs\\python\\python313\\lib\\site-packages (from requests<3.0.0.dev0,>=2.18.0->google-api-core!=2.0.*,!=2.1.*,!=2.2.*,!=2.3.0,<3.0.0.dev0,>=1.31.5->google-api-python-client) (2024.8.30)\n"
     ]
    }
   ],
   "source": [
    "!pip install google-api-python-client google-auth-httplib2 google-auth-oauthlib gspread pandas\n"
   ]
  },
  {
   "cell_type": "code",
   "execution_count": 10,
   "id": "292d1d85-3ecf-4be8-a995-3ff3c8e4bdd8",
   "metadata": {},
   "outputs": [],
   "source": [
    "from googleapiclient.discovery import build\n",
    "from google.oauth2.service_account import Credentials\n",
    "import pandas as pd\n",
    "import gspread\n",
    "from datetime import datetime, timedelta\n"
   ]
  },
  {
   "cell_type": "code",
   "execution_count": 11,
   "id": "a9a56d74-a26b-4a69-89f7-fd34790aea54",
   "metadata": {},
   "outputs": [],
   "source": [
    "# Configuration\n",
    "SCOPES = ['https://www.googleapis.com/auth/webmasters.readonly', 'https://www.googleapis.com/auth/spreadsheets']\n",
    "SERVICE_ACCOUNT_FILE = r'C:\\Users\\avine\\Downloads\\Project\\aristok-automation-441704-40507951b10b.json'  # Replace with your service account file\n",
    "SEARCH_CONSOLE_SITE_URL = 'https://www.medikabazaar.com/'  # Replace with your site URL\n",
    "SPREADSHEET_ID = '1G_xGUUl0yGbtkdza9EKD94dcc3LTKO2ADEOY6tdKwME'  # Replace with your Google Sheet ID\n"
   ]
  },
  {
   "cell_type": "code",
   "execution_count": 12,
   "id": "9ba137e4-7989-4c41-82ca-7d46761e74c4",
   "metadata": {},
   "outputs": [],
   "source": [
    "# Authenticate and initialize APIs\n",
    "credentials = Credentials.from_service_account_file(SERVICE_ACCOUNT_FILE, scopes=SCOPES)\n",
    "search_console_service = build('webmasters', 'v3', credentials=credentials)\n",
    "sheets_client = gspread.authorize(credentials)\n"
   ]
  },
  {
   "cell_type": "code",
   "execution_count": 13,
   "id": "f90206fd-8c35-44a7-8093-c33392d8a1ee",
   "metadata": {},
   "outputs": [],
   "source": [
    "def fetch_search_console_data(start_date, end_date):\n",
    "    request = {\n",
    "        'startDate': '2024-10-01',\n",
    "        'endDate': '2024-10-20',\n",
    "        'dimensions': ['date'],\n",
    "    }\n",
    "    try:\n",
    "        response = search_console_service.searchanalytics().query(siteUrl=SEARCH_CONSOLE_SITE_URL, body=request).execute()\n",
    "        print(\"API Response:\", response)  # Debugging\n",
    "        data = response.get('rows', [])\n",
    "        if not data:\n",
    "            print(\"No data found for the given date range.\")\n",
    "            return pd.DataFrame(columns=['Date', 'Clicks', 'Impressions', 'CTR', 'Position'])\n",
    "        \n",
    "        return pd.DataFrame([\n",
    "            {\n",
    "                'Date': row['keys'][0],\n",
    "                'Clicks': row.get('clicks', 0),\n",
    "                'Impressions': row.get('impressions', 0),\n",
    "                'CTR': row.get('ctr', 0),\n",
    "                'Position': row.get('position', 0)\n",
    "            }\n",
    "            for row in data\n",
    "        ])\n",
    "    except Exception as e:\n",
    "        print(f\"Error fetching data: {e}\")\n",
    "        return pd.DataFrame(columns=['Date', 'Clicks', 'Impressions', 'CTR', 'Position'])\n",
    "\n"
   ]
  },
  {
   "cell_type": "code",
   "execution_count": 14,
   "id": "34476cc9-16d5-48e9-9fad-51b9789ab84c",
   "metadata": {},
   "outputs": [],
   "source": [
    "def calculate_metrics(data):\n",
    "    data['Date'] = pd.to_datetime(data['Date'])\n",
    "    data.sort_values('Date', inplace=True)\n",
    "    \n",
    "    # Calculate previous day values and percentage changes\n",
    "    data['Previous Clicks'] = data['Clicks'].shift(1)\n",
    "    data['Clicks % Change'] = ((data['Clicks'] - data['Previous Clicks']) / data['Previous Clicks']) * 100\n",
    "\n",
    "    data['Previous Impressions'] = data['Impressions'].shift(1)\n",
    "    data['Impressions % Change'] = ((data['Impressions'] - data['Previous Impressions']) / data['Previous Impressions']) * 100\n",
    "\n",
    "    data['Previous CTR'] = data['CTR'].shift(1)\n",
    "    data['CTR % Change'] = ((data['CTR'] - data['Previous CTR']) / data['Previous CTR']) * 100\n",
    "\n",
    "    data['Previous Position'] = data['Position'].shift(1)\n",
    "    data['Position % Change'] = ((data['Position'] - data['Previous Position']) / data['Previous Position']) * 100\n",
    "\n",
    "    return data\n"
   ]
  },
  {
   "cell_type": "code",
   "execution_count": 15,
   "id": "e5ecf446-1b9e-44c2-b052-33f367ef6659",
   "metadata": {},
   "outputs": [],
   "source": [
    "def export_to_google_sheets(sheet_id, data):\n",
    "    try:\n",
    "        # Replace NaN values with appropriate defaults (e.g., 0 or an empty string)\n",
    "        clean_data = data.fillna('')  # Replace NaN with an empty string\n",
    "\n",
    "        # Attempt to open the sheet\n",
    "        print(f\"Attempting to access Google Sheet with ID: {sheet_id}\")\n",
    "        sheet = sheets_client.open_by_key(sheet_id)\n",
    "        worksheet = sheet.sheet1\n",
    "\n",
    "        # Clear existing content and update with cleaned data\n",
    "        worksheet.clear()\n",
    "        worksheet.update([clean_data.columns.values.tolist()] + clean_data.values.tolist())\n",
    "        print(\"Data successfully exported to Google Sheets.\")\n",
    "    except gspread.exceptions.SpreadsheetNotFound:\n",
    "        print(f\"Spreadsheet with ID {sheet_id} not found.\")\n",
    "    except PermissionError:\n",
    "        print(\"Permission denied: Ensure the service account email has been granted Editor access to the Google Sheet.\")\n",
    "    except Exception as e:\n",
    "        print(f\"An error occurred: {e}\")\n"
   ]
  },
  {
   "cell_type": "code",
   "execution_count": 16,
   "id": "09691d6e-3bed-49dc-9f05-0bf3fed747a4",
   "metadata": {},
   "outputs": [
    {
     "name": "stdout",
     "output_type": "stream",
     "text": [
      "API Response: {'rows': [{'keys': ['2024-10-01'], 'clicks': 1213, 'impressions': 141857, 'ctr': 0.008550864603086206, 'position': 14.060835912221462}, {'keys': ['2024-10-02'], 'clicks': 1104, 'impressions': 139604, 'ctr': 0.007908082862955216, 'position': 13.633033437437323}, {'keys': ['2024-10-03'], 'clicks': 1335, 'impressions': 154693, 'ctr': 0.008629996185994195, 'position': 13.279320977678369}, {'keys': ['2024-10-04'], 'clicks': 1210, 'impressions': 154994, 'ctr': 0.007806753809824897, 'position': 13.197388285998167}, {'keys': ['2024-10-05'], 'clicks': 1029, 'impressions': 136345, 'ctr': 0.007547031427628442, 'position': 14.021034874766219}, {'keys': ['2024-10-06'], 'clicks': 969, 'impressions': 135733, 'ctr': 0.007139015567327032, 'position': 13.576970965056397}, {'keys': ['2024-10-07'], 'clicks': 1284, 'impressions': 167104, 'ctr': 0.007683837610111068, 'position': 13.260795672156261}, {'keys': ['2024-10-08'], 'clicks': 1224, 'impressions': 163006, 'ctr': 0.007508926051801774, 'position': 12.556353753849551}, {'keys': ['2024-10-09'], 'clicks': 1283, 'impressions': 159638, 'ctr': 0.008036933562184443, 'position': 12.598153321890777}, {'keys': ['2024-10-10'], 'clicks': 1184, 'impressions': 146649, 'ctr': 0.0080736997865652, 'position': 12.882924534091606}, {'keys': ['2024-10-11'], 'clicks': 990, 'impressions': 131375, 'ctr': 0.0075356803044719315, 'position': 14.654416745956231}, {'keys': ['2024-10-12'], 'clicks': 782, 'impressions': 118506, 'ctr': 0.006598822000573811, 'position': 14.369348387423422}, {'keys': ['2024-10-13'], 'clicks': 918, 'impressions': 138882, 'ctr': 0.0066099278524214804, 'position': 13.758197606601287}, {'keys': ['2024-10-14'], 'clicks': 1406, 'impressions': 175478, 'ctr': 0.00801240041486682, 'position': 12.992568869032015}, {'keys': ['2024-10-15'], 'clicks': 1422, 'impressions': 174452, 'ctr': 0.00815123930938023, 'position': 12.267374406713595}, {'keys': ['2024-10-16'], 'clicks': 1337, 'impressions': 169573, 'ctr': 0.007884509916083339, 'position': 12.18821392556598}, {'keys': ['2024-10-17'], 'clicks': 1453, 'impressions': 171107, 'ctr': 0.008491762464422847, 'position': 12.382766339191265}, {'keys': ['2024-10-18'], 'clicks': 1255, 'impressions': 165037, 'ctr': 0.00760435538697383, 'position': 12.582039179093172}, {'keys': ['2024-10-19'], 'clicks': 976, 'impressions': 140150, 'ctr': 0.006963967178023546, 'position': 13.92625758116304}, {'keys': ['2024-10-20'], 'clicks': 882, 'impressions': 135396, 'ctr': 0.006514224940175485, 'position': 13.780997961535054}], 'responseAggregationType': 'byProperty'}\n",
      "API Response: {'rows': [{'keys': ['2024-10-01'], 'clicks': 1213, 'impressions': 141857, 'ctr': 0.008550864603086206, 'position': 14.060835912221462}, {'keys': ['2024-10-02'], 'clicks': 1104, 'impressions': 139604, 'ctr': 0.007908082862955216, 'position': 13.633033437437323}, {'keys': ['2024-10-03'], 'clicks': 1335, 'impressions': 154693, 'ctr': 0.008629996185994195, 'position': 13.279320977678369}, {'keys': ['2024-10-04'], 'clicks': 1210, 'impressions': 154994, 'ctr': 0.007806753809824897, 'position': 13.197388285998167}, {'keys': ['2024-10-05'], 'clicks': 1029, 'impressions': 136345, 'ctr': 0.007547031427628442, 'position': 14.021034874766219}, {'keys': ['2024-10-06'], 'clicks': 969, 'impressions': 135733, 'ctr': 0.007139015567327032, 'position': 13.576970965056397}, {'keys': ['2024-10-07'], 'clicks': 1284, 'impressions': 167104, 'ctr': 0.007683837610111068, 'position': 13.260795672156261}, {'keys': ['2024-10-08'], 'clicks': 1224, 'impressions': 163006, 'ctr': 0.007508926051801774, 'position': 12.556353753849551}, {'keys': ['2024-10-09'], 'clicks': 1283, 'impressions': 159638, 'ctr': 0.008036933562184443, 'position': 12.598153321890777}, {'keys': ['2024-10-10'], 'clicks': 1184, 'impressions': 146649, 'ctr': 0.0080736997865652, 'position': 12.882924534091606}, {'keys': ['2024-10-11'], 'clicks': 990, 'impressions': 131375, 'ctr': 0.0075356803044719315, 'position': 14.654416745956231}, {'keys': ['2024-10-12'], 'clicks': 782, 'impressions': 118506, 'ctr': 0.006598822000573811, 'position': 14.369348387423422}, {'keys': ['2024-10-13'], 'clicks': 918, 'impressions': 138882, 'ctr': 0.0066099278524214804, 'position': 13.758197606601287}, {'keys': ['2024-10-14'], 'clicks': 1406, 'impressions': 175478, 'ctr': 0.00801240041486682, 'position': 12.992568869032015}, {'keys': ['2024-10-15'], 'clicks': 1422, 'impressions': 174452, 'ctr': 0.00815123930938023, 'position': 12.267374406713595}, {'keys': ['2024-10-16'], 'clicks': 1337, 'impressions': 169573, 'ctr': 0.007884509916083339, 'position': 12.18821392556598}, {'keys': ['2024-10-17'], 'clicks': 1453, 'impressions': 171107, 'ctr': 0.008491762464422847, 'position': 12.382766339191265}, {'keys': ['2024-10-18'], 'clicks': 1255, 'impressions': 165037, 'ctr': 0.00760435538697383, 'position': 12.582039179093172}, {'keys': ['2024-10-19'], 'clicks': 976, 'impressions': 140150, 'ctr': 0.006963967178023546, 'position': 13.92625758116304}, {'keys': ['2024-10-20'], 'clicks': 882, 'impressions': 135396, 'ctr': 0.006514224940175485, 'position': 13.780997961535054}], 'responseAggregationType': 'byProperty'}\n",
      "Attempting to access Google Sheet with ID: 1G_xGUUl0yGbtkdza9EKD94dcc3LTKO2ADEOY6tdKwME\n",
      "Data successfully exported to Google Sheets.\n"
     ]
    }
   ],
   "source": [
    "if __name__ == '__main__':\n",
    "    # Define date ranges\n",
    "    today = datetime.now().date()\n",
    "    yesterday = today - timedelta(days=1)\n",
    "    two_days_ago = today - timedelta(days=2)\n",
    "\n",
    "    # Fetch data for the last 3 days\n",
    "    df = pd.concat([\n",
    "        fetch_search_console_data(two_days_ago.isoformat(), yesterday.isoformat()),\n",
    "        fetch_search_console_data(yesterday.isoformat(), today.isoformat())\n",
    "    ])\n",
    "\n",
    "    # Calculate metrics\n",
    "    metrics = calculate_metrics(df)\n",
    "\n",
    "    # Reformat for Google Sheets\n",
    "    metrics['Date Comparison'] = metrics['Date'].dt.strftime('%d %b\\'%y') + ' vs ' + metrics['Date'].shift(1).dt.strftime('%d %b\\'%y')\n",
    "    sheet_data = metrics[['Date Comparison', 'Clicks', 'Previous Clicks', 'Clicks % Change', \n",
    "                          'Impressions', 'Previous Impressions', 'Impressions % Change',\n",
    "                          'CTR', 'Previous CTR', 'CTR % Change',\n",
    "                          'Position', 'Previous Position', 'Position % Change']]\n",
    "\n",
    "    # Export to Google Sheets\n",
    "    export_to_google_sheets(SPREADSHEET_ID, sheet_data)\n"
   ]
  },
  {
   "cell_type": "code",
   "execution_count": null,
   "id": "4ff88d35-43c2-4f22-8ea7-90474ab249ba",
   "metadata": {},
   "outputs": [],
   "source": []
  }
 ],
 "metadata": {
  "kernelspec": {
   "display_name": "Python 3 (ipykernel)",
   "language": "python",
   "name": "python3"
  },
  "language_info": {
   "codemirror_mode": {
    "name": "ipython",
    "version": 3
   },
   "file_extension": ".py",
   "mimetype": "text/x-python",
   "name": "python",
   "nbconvert_exporter": "python",
   "pygments_lexer": "ipython3",
   "version": "3.13.0"
  }
 },
 "nbformat": 4,
 "nbformat_minor": 5
}
